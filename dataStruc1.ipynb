{
 "cells": [
  {
   "cell_type": "code",
   "execution_count": 10,
   "metadata": {
    "collapsed": false
   },
   "outputs": [
    {
     "name": "stdout",
     "output_type": "stream",
     "text": [
      "recursive dfs  ['A', 'B', 'D', 'E', 'C']\n",
      "iterative dfs  ['A', 'B', 'D', 'E', 'C']\n",
      "iterative bfs  ['A', 'B', 'C', 'D', 'E']\n",
      "['A', 'C', 'D']\n",
      "[(None, 'A'), ('A', 'C'), ('A', 'B'), ('C', 'E'), ('C', 'D')]\n"
     ]
    }
   ],
   "source": [
    "from collections import deque\n",
    "\n",
    "def recursive_dfs(graph, start, path=[]):\n",
    "  '''recursive depth first search from start'''\n",
    "  path=path+[start]\n",
    "  for node in graph[start]:\n",
    "    if not node in path:\n",
    "      path=recursive_dfs(graph, node, path)\n",
    "  return path\n",
    "\n",
    "def iterative_dfs(graph, start, path=[]):\n",
    "  '''iterative depth first search from start'''\n",
    "  q=[start]\n",
    "  while q:\n",
    "    v=q.pop(0)\n",
    "    if v not in path:\n",
    "      path=path+[v]\n",
    "      q=graph[v]+q\n",
    "  return path\n",
    "\n",
    "def iterative_bfs(graph, start, path=[]):\n",
    "  '''iterative breadth first search from start'''\n",
    "  q=[start]\n",
    "  while q:\n",
    "    v=q.pop(0)\n",
    "    if not v in path:\n",
    "      path=path+[v]\n",
    "      q=q+graph[v]\n",
    "  return path\n",
    "\n",
    "def bfs(g, start):\n",
    "    queue, enqueued = deque([(None, start)]), set([start])\n",
    "    while queue:\n",
    "        parent, n = queue.popleft()\n",
    "        yield parent, n\n",
    "        new = set(g[n]) - enqueued\n",
    "        enqueued |= new\n",
    "        queue.extend([(n, child) for child in new])\n",
    "\n",
    "def shortest_path(g, start, end):\n",
    "    parents = {}\n",
    "    for parent, child in bfs(g, start):\n",
    "        parents[child] = parent\n",
    "        if child == end:\n",
    "            revpath = [end]\n",
    "            while True:\n",
    "                parent = parents[child]\n",
    "                revpath.append(parent)\n",
    "                if parent == start:\n",
    "                    break\n",
    "                child = parent\n",
    "            return list(reversed(revpath))\n",
    "    return None # or raise appropriate exception\n",
    "\n",
    "\n",
    "'''\n",
    "   +---- A\n",
    "   |   /   \\\n",
    "   |  B--D--C\n",
    "   |   \\ | /\n",
    "   +---- E\n",
    "'''\n",
    "graph = {'A':['B','C'],'B':['D','E'],'C':['D','E'],'D':['E'],'E':['A']}\n",
    "print 'recursive dfs ', recursive_dfs(graph, 'A')\n",
    "print 'iterative dfs ', iterative_dfs(graph, 'A')\n",
    "print 'iterative bfs ', iterative_bfs(graph, 'A')\n",
    "print shortest_path(graph, 'A', 'D');\n",
    "\n",
    "print list(bfs(graph, 'A'))        \n"
   ]
  },
  {
   "cell_type": "code",
   "execution_count": 7,
   "metadata": {
    "collapsed": false
   },
   "outputs": [
    {
     "name": "stdout",
     "output_type": "stream",
     "text": [
      "['A']\n",
      "['A', 'B']\n",
      "['A', 'C']\n",
      "['A', 'E']\n",
      "['A', 'B', 'C']\n",
      "['A', 'B', 'D']\n",
      "VALID_PATH :  ['A', 'B', 'D']\n",
      "['A', 'C', 'D']\n",
      "VALID_PATH :  ['A', 'C', 'D']\n",
      "['A', 'E', 'F']\n",
      "['A', 'E', 'D']\n",
      "VALID_PATH :  ['A', 'E', 'D']\n",
      "['A', 'B', 'C', 'D']\n",
      "VALID_PATH :  ['A', 'B', 'C', 'D']\n",
      "['A', 'B', 'D', 'C']\n",
      "['A', 'E', 'F', 'C']\n",
      "['A', 'E', 'D', 'C']\n",
      "['A', 'E', 'F', 'C', 'D']\n",
      "VALID_PATH :  ['A', 'E', 'F', 'C', 'D']\n"
     ]
    }
   ],
   "source": [
    "# a sample graph\n",
    "graph = {'A': ['B', 'C','E'],\n",
    "             'B': ['A','C', 'D'],\n",
    "             'C': ['D'],\n",
    "             'D': ['C'],\n",
    "             'E': ['F','D'],\n",
    "             'F': ['C']}\n",
    "\n",
    "class MyQUEUE: # just an implementation of a queue\n",
    "\t\n",
    "\tdef __init__(self):\n",
    "\t\tself.holder = []\n",
    "\t\t\n",
    "\tdef enqueue(self,val):\n",
    "\t\tself.holder.append(val)\n",
    "\t\t\n",
    "\tdef dequeue(self):\n",
    "\t\tval = None\n",
    "\t\ttry:\n",
    "\t\t\tval = self.holder[0]\n",
    "\t\t\tif len(self.holder) == 1:\n",
    "\t\t\t\tself.holder = []\n",
    "\t\t\telse:\n",
    "\t\t\t\tself.holder = self.holder[1:]\t\n",
    "\t\texcept:\n",
    "\t\t\tpass\n",
    "\t\t\t\n",
    "\t\treturn val\t\n",
    "\t\t\n",
    "\tdef IsEmpty(self):\n",
    "\t\tresult = False\n",
    "\t\tif len(self.holder) == 0:\n",
    "\t\t\tresult = True\n",
    "\t\treturn result\n",
    "\n",
    "\n",
    "path_queue = MyQUEUE() # now we make a queue\n",
    "\n",
    "\n",
    "def BFS(graph,start,end,q):\n",
    "\t\n",
    "\ttemp_path = [start]\n",
    "\t\n",
    "\tq.enqueue(temp_path)\n",
    "\t\n",
    "\twhile q.IsEmpty() == False:\n",
    "\t\ttmp_path = q.dequeue()\n",
    "\t\tlast_node = tmp_path[len(tmp_path)-1]\n",
    "\t\tprint tmp_path\n",
    "\t\tif last_node == end:\n",
    "\t\t\tprint \"VALID_PATH : \",tmp_path\n",
    "\t\tfor link_node in graph[last_node]:\n",
    "\t\t\tif link_node not in tmp_path:\n",
    "\t\t\t\tnew_path = []\n",
    "\t\t\t\tnew_path = tmp_path + [link_node]\n",
    "\t\t\t\tq.enqueue(new_path)\n",
    "\n",
    "BFS(graph,\"A\",\"D\",path_queue)"
   ]
  },
  {
   "cell_type": "code",
   "execution_count": 11,
   "metadata": {
    "collapsed": false
   },
   "outputs": [
    {
     "data": {
      "text/plain": [
       "{'A', 'B', 'C', 'D', 'E', 'F'}"
      ]
     },
     "execution_count": 11,
     "metadata": {},
     "output_type": "execute_result"
    }
   ],
   "source": [
    "graph = {'A': set(['B', 'C']),\n",
    "         'B': set(['A', 'D', 'E']),\n",
    "         'C': set(['A', 'F']),\n",
    "         'D': set(['B']),\n",
    "         'E': set(['B', 'F']),\n",
    "         'F': set(['C', 'E'])}\n",
    "\n",
    "def dfs(graph, start, visited=None):\n",
    "    if visited is None:\n",
    "        visited = set()\n",
    "    visited.add(start)\n",
    "    for next in graph[start] - visited:\n",
    "        dfs(graph, next, visited)\n",
    "    return visited\n",
    "\n",
    "dfs(graph, 'C')"
   ]
  },
  {
   "cell_type": "code",
   "execution_count": 15,
   "metadata": {
    "collapsed": false
   },
   "outputs": [
    {
     "data": {
      "text/plain": [
       "[['A', 'B', 'E', 'F'], ['A', 'C', 'F']]"
      ]
     },
     "execution_count": 15,
     "metadata": {},
     "output_type": "execute_result"
    }
   ],
   "source": [
    "def dfs_paths(graph, start, goal):\n",
    "    stack = [(start, [start])]\n",
    "    while stack:\n",
    "        (vertex, path) = stack.pop()\n",
    "        for next in graph[vertex] - set(path):\n",
    "            if next == goal:\n",
    "                yield path + [next]\n",
    "            else:\n",
    "                stack.append((next, path + [next]))\n",
    "\n",
    "list(dfs_paths(graph, 'A', 'F'))"
   ]
  },
  {
   "cell_type": "code",
   "execution_count": null,
   "metadata": {
    "collapsed": true
   },
   "outputs": [],
   "source": []
  },
  {
   "cell_type": "code",
   "execution_count": 16,
   "metadata": {
    "collapsed": false
   },
   "outputs": [
    {
     "data": {
      "text/plain": [
       "{'A', 'B', 'C', 'D', 'E', 'F'}"
      ]
     },
     "execution_count": 16,
     "metadata": {},
     "output_type": "execute_result"
    }
   ],
   "source": [
    "def bfs(graph, start):\n",
    "    visited, queue = set(), [start]\n",
    "    while queue:\n",
    "        vertex = queue.pop(0)\n",
    "        if vertex not in visited:\n",
    "            visited.add(vertex)\n",
    "            queue.extend(graph[vertex] - visited)\n",
    "    return visited\n",
    "\n",
    "bfs(graph, 'A')"
   ]
  },
  {
   "cell_type": "code",
   "execution_count": 17,
   "metadata": {
    "collapsed": false
   },
   "outputs": [
    {
     "data": {
      "text/plain": [
       "[['A', 'C', 'F'], ['A', 'B', 'E', 'F']]"
      ]
     },
     "execution_count": 17,
     "metadata": {},
     "output_type": "execute_result"
    }
   ],
   "source": [
    "def bfs_paths(graph, start, goal):\n",
    "    queue = [(start, [start])]\n",
    "    while queue:\n",
    "        (vertex, path) = queue.pop(0)\n",
    "        for next in graph[vertex] - set(path):\n",
    "            if next == goal:\n",
    "                yield path + [next]\n",
    "            else:\n",
    "                queue.append((next, path + [next]))\n",
    "\n",
    "list(bfs_paths(graph, 'A', 'F'))"
   ]
  },
  {
   "cell_type": "code",
   "execution_count": 21,
   "metadata": {
    "collapsed": false
   },
   "outputs": [
    {
     "data": {
      "text/plain": [
       "['A', 'C', 'F']"
      ]
     },
     "execution_count": 21,
     "metadata": {},
     "output_type": "execute_result"
    }
   ],
   "source": [
    "def shortest_path(graph, start, goal):\n",
    "    try:\n",
    "        return next(bfs_paths(graph, start, goal))\n",
    "    except StopIteration:\n",
    "        return None\n",
    "\n",
    "shortest_path(graph, 'A', 'F')"
   ]
  },
  {
   "cell_type": "code",
   "execution_count": null,
   "metadata": {
    "collapsed": true
   },
   "outputs": [],
   "source": []
  }
 ],
 "metadata": {
  "kernelspec": {
   "display_name": "Python [Root]",
   "language": "python",
   "name": "Python [Root]"
  },
  "language_info": {
   "codemirror_mode": {
    "name": "ipython",
    "version": 2
   },
   "file_extension": ".py",
   "mimetype": "text/x-python",
   "name": "python",
   "nbconvert_exporter": "python",
   "pygments_lexer": "ipython2",
   "version": "2.7.12"
  }
 },
 "nbformat": 4,
 "nbformat_minor": 0
}
